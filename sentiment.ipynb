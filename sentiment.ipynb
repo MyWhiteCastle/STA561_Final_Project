{
 "cells": [
  {
   "cell_type": "code",
   "execution_count": 30,
   "metadata": {},
   "outputs": [],
   "source": [
    "import pandas as pd\n",
    "import numpy as np\n",
    "import pandas as pd\n",
    "import numpy as np\n",
    "import re\n",
    "import collections\n",
    "import matplotlib.pyplot as plt\n",
    "from pathlib import Path\n",
    "from sklearn.model_selection import train_test_split\n",
    "from keras.preprocessing.text import Tokenizer\n",
    "from keras.preprocessing.sequence import pad_sequences\n",
    "from keras.utils.np_utils import to_categorical\n",
    "from sklearn.preprocessing import LabelEncoder\n",
    "from keras import models\n",
    "from keras import layers\n",
    "import string\n",
    "from sklearn.feature_extraction.text import CountVectorizer\n",
    "from sklearn.feature_extraction.text import TfidfVectorizer"
   ]
  },
  {
   "cell_type": "markdown",
   "metadata": {},
   "source": [
    "## Part I: read data"
   ]
  },
  {
   "cell_type": "code",
   "execution_count": 18,
   "metadata": {},
   "outputs": [],
   "source": [
    "df = pd.read_csv(\"train.csv\")"
   ]
  },
  {
   "cell_type": "code",
   "execution_count": 19,
   "metadata": {},
   "outputs": [
    {
     "data": {
      "text/plain": [
       "Index(['id', 'target', 'comment_text', 'severe_toxicity', 'obscene',\n",
       "       'identity_attack', 'insult', 'threat', 'asian', 'atheist', 'bisexual',\n",
       "       'black', 'buddhist', 'christian', 'female', 'heterosexual', 'hindu',\n",
       "       'homosexual_gay_or_lesbian', 'intellectual_or_learning_disability',\n",
       "       'jewish', 'latino', 'male', 'muslim', 'other_disability',\n",
       "       'other_gender', 'other_race_or_ethnicity', 'other_religion',\n",
       "       'other_sexual_orientation', 'physical_disability',\n",
       "       'psychiatric_or_mental_illness', 'transgender', 'white', 'created_date',\n",
       "       'publication_id', 'parent_id', 'article_id', 'rating', 'funny', 'wow',\n",
       "       'sad', 'likes', 'disagree', 'sexual_explicit',\n",
       "       'identity_annotator_count', 'toxicity_annotator_count'],\n",
       "      dtype='object')"
      ]
     },
     "execution_count": 19,
     "metadata": {},
     "output_type": "execute_result"
    }
   ],
   "source": [
    "df.columns"
   ]
  },
  {
   "cell_type": "code",
   "execution_count": 91,
   "metadata": {},
   "outputs": [],
   "source": [
    "sentences = df[\"comment_text\"].tolist()\n",
    "sentences = sentences[1:20]"
   ]
  },
  {
   "cell_type": "markdown",
   "metadata": {},
   "source": [
    "### Tokenize a sentence"
   ]
  },
  {
   "cell_type": "markdown",
   "metadata": {},
   "source": [
    "##### bag of words"
   ]
  },
  {
   "cell_type": "code",
   "execution_count": 85,
   "metadata": {},
   "outputs": [],
   "source": [
    "count_vec = CountVectorizer(stop_words=\"english\", analyzer='word', \n",
    "                            ngram_range=(1, 1), max_df=1.0, min_df=1, max_features=None)"
   ]
  },
  {
   "cell_type": "code",
   "execution_count": 95,
   "metadata": {},
   "outputs": [],
   "source": [
    "count_vec.fit(sentences)\n",
    "bag_of_words = count_vec.transform(sentences)"
   ]
  },
  {
   "cell_type": "code",
   "execution_count": 96,
   "metadata": {},
   "outputs": [
    {
     "name": "stdout",
     "output_type": "stream",
     "text": [
      "Every feature:\n",
      "['150', 'able', 'active', 'agree', 'allow', 'angry', 'animals', 'anxiety', 'arguments', 'armed', 'assume', 'awesome', 'basically', 'belongs', 'bunch', 'called', 'civil', 'cogent', 'combo', 'comment', 'commenting', 'comments', 'community', 'considered', 'couple', 'curious', 'current', 'currently', 'deluded', 'delusion', 'design', 'desire', 'destroy', 'dildos', 'diode', 'direction', 'discussions', 'diversity', 'doesn', 'don', 'ending', 'engage', 'events', 'expected', 'facts', 'ffffuuuuuuuuuuuuuuu', 'forward', 'fuck', 'gets', 'glad', 'good', 'grant', 'great', 'greed', 'greedy', 'group', 'guys', 'haha', 'hahahahahahahahhha', 'hall', 'hand', 'happy', 'heard', 'hectic', 'hopefully', 'hour', 'idea', 'impressive', 'individuals', 'inducing', 'install', 'interaction', 'interesting', 'iq', 'jokes', 'jump', 'kudos', 'lacking', 'land', 'language', 'large', 'legitimacy', 'let', 'life', 'like', 'linear', 'll', 'local', 'look', 'losers', 'lot', 'love', 'mail', 'make', 'makes', 'man', 'mass', 'math', 'member', 'minded', 'misogynists', 'motivated', 'neo', 'news', 'offensive', 'oh', 'online', 'people', 'person', 'platform', 'plays', 'posts', 'potential', 'problem', 'profit', 'protesters', 'protestors', 'public', 'racists', 'ranchers', 'real', 'really', 'reasons', 'reddit', 'refrain', 'releasing', 'rely', 'resident', 'ridiculous', 'right', 'say', 'sections', 'seeing', 'select', 'sending', 'sense', 'sh', 'share', 'shut', 'silence', 'site', 'slant', 'small', 'sorts', 'sounds', 'stances', 'step', 'stories', 'story', 'suck', 'taking', 'tempted', 'terrorists', 'thank', 'thing', 'think', 'thread', 'threat', 'time', 'tools', 'town', 'trolls', 'tty', 'unpopular', 'ur', 'urgent', 'verboten', 'violence', 'want', 'way', 'winning', 'won', 'wonder', 'work', 'working', 'works', 'wow', 'ww', 'yelled']\n"
     ]
    }
   ],
   "source": [
    "print(\"Every feature:\\n{}\".format(count_vec.get_feature_names()))"
   ]
  },
  {
   "cell_type": "code",
   "execution_count": null,
   "metadata": {},
   "outputs": [],
   "source": []
  },
  {
   "cell_type": "code",
   "execution_count": null,
   "metadata": {},
   "outputs": [],
   "source": []
  }
 ],
 "metadata": {
  "kernelspec": {
   "display_name": "Python 3",
   "language": "python",
   "name": "python3"
  },
  "language_info": {
   "codemirror_mode": {
    "name": "ipython",
    "version": 3
   },
   "file_extension": ".py",
   "mimetype": "text/x-python",
   "name": "python",
   "nbconvert_exporter": "python",
   "pygments_lexer": "ipython3",
   "version": "3.7.1"
  }
 },
 "nbformat": 4,
 "nbformat_minor": 2
}
